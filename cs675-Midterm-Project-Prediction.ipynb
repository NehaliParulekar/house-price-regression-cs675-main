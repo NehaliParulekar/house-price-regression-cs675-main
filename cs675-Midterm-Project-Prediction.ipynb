{
 "cells": [
  {
   "cell_type": "markdown",
   "metadata": {},
   "source": [
    "Features:\n",
    "Overall Quality\n",
    "Lot Area\n",
    "Garage Area\n",
    "Full Bath\n",
    "1stFlrSF\n",
    "MasVnrArea\n",
    "FireplaceQu\n",
    "Lot Frontage\n",
    "Year Built \n",
    "Neighborhood\n",
    "\n",
    "Derived:\n",
    "Porch Deck Rank (scaled score of porch and deck quality)\n",
    "TotRmsAbvGrdwithBath (totrms + full bath + halfbaths)\n",
    "HasPool\n",
    "Years_since_remodelled (year built - years remodded, otherwise 0)\n",
    "PCA - take first two features"
   ]
  },
  {
   "cell_type": "code",
   "execution_count": null,
   "metadata": {},
   "outputs": [],
   "source": []
  }
 ],
 "metadata": {
  "kernelspec": {
   "display_name": "Python 3",
   "language": "python",
   "name": "python3"
  },
  "language_info": {
   "codemirror_mode": {
    "name": "ipython",
    "version": 3
   },
   "file_extension": ".py",
   "mimetype": "text/x-python",
   "name": "python",
   "nbconvert_exporter": "python",
   "pygments_lexer": "ipython3",
   "version": "3.7.6"
  }
 },
 "nbformat": 4,
 "nbformat_minor": 4
}
